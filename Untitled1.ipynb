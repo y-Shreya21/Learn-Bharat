{
  "nbformat": 4,
  "nbformat_minor": 0,
  "metadata": {
    "colab": {
      "provenance": [],
      "toc_visible": true,
      "authorship_tag": "ABX9TyP5M92xnUpPc4BQz1qQte10",
      "include_colab_link": true
    },
    "kernelspec": {
      "name": "python3",
      "display_name": "Python 3"
    },
    "language_info": {
      "name": "python"
    }
  },
  "cells": [
    {
      "cell_type": "markdown",
      "metadata": {
        "id": "view-in-github",
        "colab_type": "text"
      },
      "source": [
        "<a href=\"https://colab.research.google.com/github/y-Shreya21/Learn-Bharat/blob/main/Untitled1.ipynb\" target=\"_parent\"><img src=\"https://colab.research.google.com/assets/colab-badge.svg\" alt=\"Open In Colab\"/></a>"
      ]
    },
    {
      "cell_type": "code",
      "execution_count": 9,
      "metadata": {
        "colab": {
          "base_uri": "https://localhost:8080/"
        },
        "id": "FWOhZ07j6wfu",
        "outputId": "e8807785-d010-40ee-d29e-5c84c52930bb"
      },
      "outputs": [
        {
          "output_type": "stream",
          "name": "stdout",
          "text": [
            "    Name  Age      City\n",
            "0   John   25  New York\n",
            "1   Jane   30     Paris\n",
            "2    Bob   35    London\n",
            "3  Alice   40    Sydney\n",
            "0     John\n",
            "1     Jane\n",
            "2      Bob\n",
            "3    Alice\n",
            "Name: Name, dtype: object\n",
            "    Name  Age      City  salary\n",
            "0   John   25  New York    5000\n",
            "1   Jane   30     Paris    6000\n",
            "2    Bob   35    London    7000\n",
            "3  Alice   40    Sydney    8000\n",
            "    Name  Age    City  salary\n",
            "1   Jane   30   Paris    6000\n",
            "2    Bob   35  London    7000\n",
            "3  Alice   40  Sydney    8000\n",
            "   Name  Age      City  salary\n",
            "0  John   25  New York    5000\n"
          ]
        }
      ],
      "source": [
        "import pandas as pd\n",
        "data = {\n",
        "    'Name' : ['John', 'Jane', 'Bob', 'Alice'],\n",
        "    'Age' : [25, 30, 35, 40],\n",
        "    'City' : ['New York', 'Paris', 'London', 'Sydney']\n",
        "}\n",
        "df = pd.DataFrame(data)\n",
        "print(df)\n",
        "print(df['Name'])\n",
        "df['salary'] = [5000,6000,7000,8000]\n",
        "\n",
        "print(df)\n",
        "filter_data = df[df['Age'] > 25]\n",
        "print(filter_data)\n",
        "filter_data2 = df[df['Age'] <=25]\n",
        "print(filter_data2)\n"
      ]
    },
    {
      "cell_type": "code",
      "source": [
        "\"\"\" data frame working in the organistaion contains\n",
        " employee name , employe id , designation and slaary .\n",
        " data of atlesast 8 employe modify the data frame by adding onr more colum city .\n",
        " display the records where slaary is greater than the 60K \"\"\"\n",
        "import pandas as pd\n",
        "data = {\n",
        "    'Employee name' : ['RAVI DUBEY', 'SHALINI AWASTHI', 'SHIVANGI AGNIHOTRI ', 'SHRIKANT AGARWAL','SHIVA ','PAYAL','SHREYA ' ,'SHIV'],\n",
        "    'E_ID' :[201, 202, 203, 204,205,206,207,208],\n",
        "    'Designation' :['Manager DIRECTOR','HR ',' TECHNICAL HEAD','PRODUCTION MANGER ','ASSOCIATE MANGER ','PA','SECRATERY','PROJECT MANAGER '],\n",
        "    'Salary':[900000,55000,60000,74000,80000,85000,65000,69000]}\n",
        "df= pd.DataFrame(data)\n",
        "print(df)\n",
        "filter_data = df[df['Salary'] > 60000]\n",
        "print(filter_data)\n"
      ],
      "metadata": {
        "colab": {
          "base_uri": "https://localhost:8080/"
        },
        "id": "bJy_6NTy_fMm",
        "outputId": "11603c86-3b35-4717-a86f-e19d6234b984"
      },
      "execution_count": 15,
      "outputs": [
        {
          "output_type": "stream",
          "name": "stdout",
          "text": [
            "         Employee name  E_ID         Designation  Salary\n",
            "0           RAVI DUBEY   201    Manager DIRECTOR  900000\n",
            "1      SHALINI AWASTHI   202                 HR    55000\n",
            "2  SHIVANGI AGNIHOTRI    203      TECHNICAL HEAD   60000\n",
            "3     SHRIKANT AGARWAL   204  PRODUCTION MANGER    74000\n",
            "4               SHIVA    205   ASSOCIATE MANGER    80000\n",
            "5                PAYAL   206                  PA   85000\n",
            "6              SHREYA    207           SECRATERY   65000\n",
            "7                 SHIV   208    PROJECT MANAGER    69000\n",
            "      Employee name  E_ID         Designation  Salary\n",
            "0        RAVI DUBEY   201    Manager DIRECTOR  900000\n",
            "3  SHRIKANT AGARWAL   204  PRODUCTION MANGER    74000\n",
            "4            SHIVA    205   ASSOCIATE MANGER    80000\n",
            "5             PAYAL   206                  PA   85000\n",
            "6           SHREYA    207           SECRATERY   65000\n",
            "7              SHIV   208    PROJECT MANAGER    69000\n"
          ]
        }
      ]
    },
    {
      "cell_type": "code",
      "source": [
        "import pandas as pd\n",
        "data = {'Department': ['HR', 'IT', 'Finance', 'Marketing'],\n",
        "        'Employees': ['Alice', 'Bob', 'Charlie', 'David'],\n",
        "        'Salary': [50000, 60000, 70000, 80000]}\n",
        "df = pd.DataFrame(data)\n",
        "grouped_df = df.groupby('Department')['Salary'].mean()\n",
        "print(grouped_df)\n"
      ],
      "metadata": {
        "colab": {
          "base_uri": "https://localhost:8080/"
        },
        "id": "1Ahq2EdYFd9j",
        "outputId": "18c5914d-6647-4652-c81a-1ee024bd1efd"
      },
      "execution_count": 16,
      "outputs": [
        {
          "output_type": "stream",
          "name": "stdout",
          "text": [
            "Department\n",
            "Finance      70000.0\n",
            "HR           50000.0\n",
            "IT           60000.0\n",
            "Marketing    80000.0\n",
            "Name: Salary, dtype: float64\n"
          ]
        }
      ]
    },
    {
      "cell_type": "code",
      "source": [
        "import pandas as pd\n",
        "import numpy as np\n",
        "data = {'name': ['Alice', 'bob','charlie', 'david'],\n",
        "        'Age': [25, np.nan, 35, 24]}\n",
        "df = pd.DataFrame(data)\n",
        "df['Age'].fillna(df['Age'].mean(), inplace=True)\n",
        "print(df)"
      ],
      "metadata": {
        "colab": {
          "base_uri": "https://localhost:8080/"
        },
        "id": "QT6xhWZoHLMy",
        "outputId": "3519f73a-e7d2-4ab0-ea2d-d76bf94b88ba"
      },
      "execution_count": 20,
      "outputs": [
        {
          "output_type": "stream",
          "name": "stdout",
          "text": [
            "      name   Age\n",
            "0    Alice  25.0\n",
            "1      bob  28.0\n",
            "2  charlie  35.0\n",
            "3    david  24.0\n"
          ]
        },
        {
          "output_type": "stream",
          "name": "stderr",
          "text": [
            "<ipython-input-20-179cddbb654b>:6: FutureWarning: A value is trying to be set on a copy of a DataFrame or Series through chained assignment using an inplace method.\n",
            "The behavior will change in pandas 3.0. This inplace method will never work because the intermediate object on which we are setting values always behaves as a copy.\n",
            "\n",
            "For example, when doing 'df[col].method(value, inplace=True)', try using 'df.method({col: value}, inplace=True)' or df[col] = df[col].method(value) instead, to perform the operation inplace on the original object.\n",
            "\n",
            "\n",
            "  df['Age'].fillna(df['Age'].mean(), inplace=True)\n"
          ]
        }
      ]
    },
    {
      "cell_type": "code",
      "source": [
        "import pandas as pd\n",
        "df = pd.read_csv('/content/customers-100.csv')\n",
        "print(df)"
      ],
      "metadata": {
        "colab": {
          "base_uri": "https://localhost:8080/"
        },
        "id": "ZdlAuENOJoBc",
        "outputId": "4a22786d-b927-4104-9891-a74d0e2c03c2"
      },
      "execution_count": 29,
      "outputs": [
        {
          "output_type": "stream",
          "name": "stdout",
          "text": [
            "    Index      Customer Id First Name Last Name  \\\n",
            "0       1  DD37Cf93aecA6Dc     Sheryl    Baxter   \n",
            "1       2  1Ef7b82A4CAAD10    Preston    Lozano   \n",
            "2       3  6F94879bDAfE5a6        Roy     Berry   \n",
            "3       4  5Cef8BFA16c5e3c      Linda     Olsen   \n",
            "4       5  053d585Ab6b3159     Joanna    Bender   \n",
            "..    ...              ...        ...       ...   \n",
            "95     96  cb8E23e48d22Eae       Karl     Greer   \n",
            "96     97  CeD220bdAaCfaDf       Lynn  Atkinson   \n",
            "97     98  28CDbC0dFe4b1Db       Fred    Guerra   \n",
            "98     99  c23d1D9EE8DEB0A     Yvonne    Farmer   \n",
            "99    100  2354a0E336A91A1   Clarence    Haynes   \n",
            "\n",
            "                            Company               City  \\\n",
            "0                   Rasmussen Group       East Leonard   \n",
            "1                       Vega-Gentry  East Jimmychester   \n",
            "2                     Murillo-Perry      Isabelborough   \n",
            "3   Dominguez, Mcmillan and Donovan         Bensonview   \n",
            "4          Martin, Lang and Andrade     West Priscilla   \n",
            "..                              ...                ...   \n",
            "95                        Carey LLC       East Richard   \n",
            "96            Ware, Burns and Oneal       New Bradview   \n",
            "97                    Schmitt-Jones         Ortegaland   \n",
            "98               Fitzgerald-Harrell    Lake Elijahview   \n",
            "99               Le, Nash and Cross          Judymouth   \n",
            "\n",
            "                       Country                 Phone 1  \\\n",
            "0                        Chile            229.077.5154   \n",
            "1                     Djibouti              5153435776   \n",
            "2          Antigua and Barbuda         +1-539-402-0259   \n",
            "3           Dominican Republic  001-808-617-6467x12895   \n",
            "4   Slovakia (Slovak Republic)  001-234-203-0635x76146   \n",
            "..                         ...                     ...   \n",
            "95                      Guyana     (188)169-1674x58692   \n",
            "96                   Sri Lanka         +1-846-706-2218   \n",
            "97             Solomon Islands    +1-753-067-8419x7170   \n",
            "98                       Aruba           (530)311-9786   \n",
            "99                    Honduras           (753)813-6941   \n",
            "\n",
            "                   Phone 2                           Email Subscription Date  \\\n",
            "0         397.884.0519x718        zunigavanessa@smith.info        2020-08-24   \n",
            "1         686-620-1820x944                 vmata@colon.com        2021-04-23   \n",
            "2      (496)978-3969x58947             beckycarr@hogan.com        2020-03-25   \n",
            "3          +1-813-324-8756     stanleyblackwell@benson.org        2020-06-02   \n",
            "4    001-199-446-3860x3486         colinalvarado@miles.net        2021-04-17   \n",
            "..                     ...                             ...               ...   \n",
            "95    001-841-293-3519x614                hhart@jensen.com        2022-01-30   \n",
            "96            605.413.3198               vkemp@ferrell.com        2021-07-10   \n",
            "97   +1-632-666-7507x92121                swagner@kane.org        2021-09-18   \n",
            "98  001-869-452-0943x12424  mccarthystephen@horn-green.biz        2021-08-11   \n",
            "99            783.639.1472          colleen91@faulkner.biz        2020-03-11   \n",
            "\n",
            "                              Website  \n",
            "0          http://www.stephenson.com/  \n",
            "1               http://www.hobbs.com/  \n",
            "2            http://www.lawrence.com/  \n",
            "3          http://www.good-lyons.com/  \n",
            "4         https://goodwin-ingram.com/  \n",
            "..                                ...  \n",
            "95            http://hayes-perez.com/  \n",
            "96         https://novak-allison.com/  \n",
            "97              https://www.ross.com/  \n",
            "98               http://watkins.info/  \n",
            "99  http://www.hatfield-saunders.net/  \n",
            "\n",
            "[100 rows x 12 columns]\n"
          ]
        }
      ]
    },
    {
      "cell_type": "code",
      "source": [
        "import pandas as pd\n",
        "df = pd.read_csv('/content/sample_data')\n",
        "print(df)"
      ],
      "metadata": {
        "colab": {
          "base_uri": "https://localhost:8080/",
          "height": 339
        },
        "id": "jfY10TpEOolr",
        "outputId": "1bf260f3-421f-48d7-88cb-f29345641636"
      },
      "execution_count": 30,
      "outputs": [
        {
          "output_type": "error",
          "ename": "IsADirectoryError",
          "evalue": "[Errno 21] Is a directory: '/content/sample_data'",
          "traceback": [
            "\u001b[0;31m---------------------------------------------------------------------------\u001b[0m",
            "\u001b[0;31mIsADirectoryError\u001b[0m                         Traceback (most recent call last)",
            "\u001b[0;32m<ipython-input-30-2dd4f5bf0259>\u001b[0m in \u001b[0;36m<cell line: 0>\u001b[0;34m()\u001b[0m\n\u001b[1;32m      1\u001b[0m \u001b[0;32mimport\u001b[0m \u001b[0mpandas\u001b[0m \u001b[0;32mas\u001b[0m \u001b[0mpd\u001b[0m\u001b[0;34m\u001b[0m\u001b[0;34m\u001b[0m\u001b[0m\n\u001b[0;32m----> 2\u001b[0;31m \u001b[0mdf\u001b[0m \u001b[0;34m=\u001b[0m \u001b[0mpd\u001b[0m\u001b[0;34m.\u001b[0m\u001b[0mread_csv\u001b[0m\u001b[0;34m(\u001b[0m\u001b[0;34m'/content/sample_data'\u001b[0m\u001b[0;34m)\u001b[0m\u001b[0;34m\u001b[0m\u001b[0;34m\u001b[0m\u001b[0m\n\u001b[0m\u001b[1;32m      3\u001b[0m \u001b[0mprint\u001b[0m\u001b[0;34m(\u001b[0m\u001b[0mdf\u001b[0m\u001b[0;34m)\u001b[0m\u001b[0;34m\u001b[0m\u001b[0;34m\u001b[0m\u001b[0m\n",
            "\u001b[0;32m/usr/local/lib/python3.11/dist-packages/pandas/io/parsers/readers.py\u001b[0m in \u001b[0;36mread_csv\u001b[0;34m(filepath_or_buffer, sep, delimiter, header, names, index_col, usecols, dtype, engine, converters, true_values, false_values, skipinitialspace, skiprows, skipfooter, nrows, na_values, keep_default_na, na_filter, verbose, skip_blank_lines, parse_dates, infer_datetime_format, keep_date_col, date_parser, date_format, dayfirst, cache_dates, iterator, chunksize, compression, thousands, decimal, lineterminator, quotechar, quoting, doublequote, escapechar, comment, encoding, encoding_errors, dialect, on_bad_lines, delim_whitespace, low_memory, memory_map, float_precision, storage_options, dtype_backend)\u001b[0m\n\u001b[1;32m   1024\u001b[0m     \u001b[0mkwds\u001b[0m\u001b[0;34m.\u001b[0m\u001b[0mupdate\u001b[0m\u001b[0;34m(\u001b[0m\u001b[0mkwds_defaults\u001b[0m\u001b[0;34m)\u001b[0m\u001b[0;34m\u001b[0m\u001b[0;34m\u001b[0m\u001b[0m\n\u001b[1;32m   1025\u001b[0m \u001b[0;34m\u001b[0m\u001b[0m\n\u001b[0;32m-> 1026\u001b[0;31m     \u001b[0;32mreturn\u001b[0m \u001b[0m_read\u001b[0m\u001b[0;34m(\u001b[0m\u001b[0mfilepath_or_buffer\u001b[0m\u001b[0;34m,\u001b[0m \u001b[0mkwds\u001b[0m\u001b[0;34m)\u001b[0m\u001b[0;34m\u001b[0m\u001b[0;34m\u001b[0m\u001b[0m\n\u001b[0m\u001b[1;32m   1027\u001b[0m \u001b[0;34m\u001b[0m\u001b[0m\n\u001b[1;32m   1028\u001b[0m \u001b[0;34m\u001b[0m\u001b[0m\n",
            "\u001b[0;32m/usr/local/lib/python3.11/dist-packages/pandas/io/parsers/readers.py\u001b[0m in \u001b[0;36m_read\u001b[0;34m(filepath_or_buffer, kwds)\u001b[0m\n\u001b[1;32m    618\u001b[0m \u001b[0;34m\u001b[0m\u001b[0m\n\u001b[1;32m    619\u001b[0m     \u001b[0;31m# Create the parser.\u001b[0m\u001b[0;34m\u001b[0m\u001b[0;34m\u001b[0m\u001b[0m\n\u001b[0;32m--> 620\u001b[0;31m     \u001b[0mparser\u001b[0m \u001b[0;34m=\u001b[0m \u001b[0mTextFileReader\u001b[0m\u001b[0;34m(\u001b[0m\u001b[0mfilepath_or_buffer\u001b[0m\u001b[0;34m,\u001b[0m \u001b[0;34m**\u001b[0m\u001b[0mkwds\u001b[0m\u001b[0;34m)\u001b[0m\u001b[0;34m\u001b[0m\u001b[0;34m\u001b[0m\u001b[0m\n\u001b[0m\u001b[1;32m    621\u001b[0m \u001b[0;34m\u001b[0m\u001b[0m\n\u001b[1;32m    622\u001b[0m     \u001b[0;32mif\u001b[0m \u001b[0mchunksize\u001b[0m \u001b[0;32mor\u001b[0m \u001b[0miterator\u001b[0m\u001b[0;34m:\u001b[0m\u001b[0;34m\u001b[0m\u001b[0;34m\u001b[0m\u001b[0m\n",
            "\u001b[0;32m/usr/local/lib/python3.11/dist-packages/pandas/io/parsers/readers.py\u001b[0m in \u001b[0;36m__init__\u001b[0;34m(self, f, engine, **kwds)\u001b[0m\n\u001b[1;32m   1618\u001b[0m \u001b[0;34m\u001b[0m\u001b[0m\n\u001b[1;32m   1619\u001b[0m         \u001b[0mself\u001b[0m\u001b[0;34m.\u001b[0m\u001b[0mhandles\u001b[0m\u001b[0;34m:\u001b[0m \u001b[0mIOHandles\u001b[0m \u001b[0;34m|\u001b[0m \u001b[0;32mNone\u001b[0m \u001b[0;34m=\u001b[0m \u001b[0;32mNone\u001b[0m\u001b[0;34m\u001b[0m\u001b[0;34m\u001b[0m\u001b[0m\n\u001b[0;32m-> 1620\u001b[0;31m         \u001b[0mself\u001b[0m\u001b[0;34m.\u001b[0m\u001b[0m_engine\u001b[0m \u001b[0;34m=\u001b[0m \u001b[0mself\u001b[0m\u001b[0;34m.\u001b[0m\u001b[0m_make_engine\u001b[0m\u001b[0;34m(\u001b[0m\u001b[0mf\u001b[0m\u001b[0;34m,\u001b[0m \u001b[0mself\u001b[0m\u001b[0;34m.\u001b[0m\u001b[0mengine\u001b[0m\u001b[0;34m)\u001b[0m\u001b[0;34m\u001b[0m\u001b[0;34m\u001b[0m\u001b[0m\n\u001b[0m\u001b[1;32m   1621\u001b[0m \u001b[0;34m\u001b[0m\u001b[0m\n\u001b[1;32m   1622\u001b[0m     \u001b[0;32mdef\u001b[0m \u001b[0mclose\u001b[0m\u001b[0;34m(\u001b[0m\u001b[0mself\u001b[0m\u001b[0;34m)\u001b[0m \u001b[0;34m->\u001b[0m \u001b[0;32mNone\u001b[0m\u001b[0;34m:\u001b[0m\u001b[0;34m\u001b[0m\u001b[0;34m\u001b[0m\u001b[0m\n",
            "\u001b[0;32m/usr/local/lib/python3.11/dist-packages/pandas/io/parsers/readers.py\u001b[0m in \u001b[0;36m_make_engine\u001b[0;34m(self, f, engine)\u001b[0m\n\u001b[1;32m   1878\u001b[0m                 \u001b[0;32mif\u001b[0m \u001b[0;34m\"b\"\u001b[0m \u001b[0;32mnot\u001b[0m \u001b[0;32min\u001b[0m \u001b[0mmode\u001b[0m\u001b[0;34m:\u001b[0m\u001b[0;34m\u001b[0m\u001b[0;34m\u001b[0m\u001b[0m\n\u001b[1;32m   1879\u001b[0m                     \u001b[0mmode\u001b[0m \u001b[0;34m+=\u001b[0m \u001b[0;34m\"b\"\u001b[0m\u001b[0;34m\u001b[0m\u001b[0;34m\u001b[0m\u001b[0m\n\u001b[0;32m-> 1880\u001b[0;31m             self.handles = get_handle(\n\u001b[0m\u001b[1;32m   1881\u001b[0m                 \u001b[0mf\u001b[0m\u001b[0;34m,\u001b[0m\u001b[0;34m\u001b[0m\u001b[0;34m\u001b[0m\u001b[0m\n\u001b[1;32m   1882\u001b[0m                 \u001b[0mmode\u001b[0m\u001b[0;34m,\u001b[0m\u001b[0;34m\u001b[0m\u001b[0;34m\u001b[0m\u001b[0m\n",
            "\u001b[0;32m/usr/local/lib/python3.11/dist-packages/pandas/io/common.py\u001b[0m in \u001b[0;36mget_handle\u001b[0;34m(path_or_buf, mode, encoding, compression, memory_map, is_text, errors, storage_options)\u001b[0m\n\u001b[1;32m    871\u001b[0m         \u001b[0;32mif\u001b[0m \u001b[0mioargs\u001b[0m\u001b[0;34m.\u001b[0m\u001b[0mencoding\u001b[0m \u001b[0;32mand\u001b[0m \u001b[0;34m\"b\"\u001b[0m \u001b[0;32mnot\u001b[0m \u001b[0;32min\u001b[0m \u001b[0mioargs\u001b[0m\u001b[0;34m.\u001b[0m\u001b[0mmode\u001b[0m\u001b[0;34m:\u001b[0m\u001b[0;34m\u001b[0m\u001b[0;34m\u001b[0m\u001b[0m\n\u001b[1;32m    872\u001b[0m             \u001b[0;31m# Encoding\u001b[0m\u001b[0;34m\u001b[0m\u001b[0;34m\u001b[0m\u001b[0m\n\u001b[0;32m--> 873\u001b[0;31m             handle = open(\n\u001b[0m\u001b[1;32m    874\u001b[0m                 \u001b[0mhandle\u001b[0m\u001b[0;34m,\u001b[0m\u001b[0;34m\u001b[0m\u001b[0;34m\u001b[0m\u001b[0m\n\u001b[1;32m    875\u001b[0m                 \u001b[0mioargs\u001b[0m\u001b[0;34m.\u001b[0m\u001b[0mmode\u001b[0m\u001b[0;34m,\u001b[0m\u001b[0;34m\u001b[0m\u001b[0;34m\u001b[0m\u001b[0m\n",
            "\u001b[0;31mIsADirectoryError\u001b[0m: [Errno 21] Is a directory: '/content/sample_data'"
          ]
        }
      ]
    },
    {
      "cell_type": "code",
      "source": [
        "s1 = pd.Series([10,20,30] , index = ['A','B','C']) # Changed 'Index' to 'index'\n",
        "s2 = pd.Series([6,7,8], index = ['B','C','D'])\n",
        "result = s1+s2\n",
        "print(result)"
      ],
      "metadata": {
        "colab": {
          "base_uri": "https://localhost:8080/"
        },
        "id": "11NZkLZIMmj-",
        "outputId": "da3054a8-0ccc-4e8e-fbdb-c07fc9b2b702"
      },
      "execution_count": 28,
      "outputs": [
        {
          "output_type": "stream",
          "name": "stdout",
          "text": [
            "A     NaN\n",
            "B    26.0\n",
            "C    37.0\n",
            "D     NaN\n",
            "dtype: float64\n"
          ]
        }
      ]
    }
  ]
}